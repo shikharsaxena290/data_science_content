{
  "nbformat": 4,
  "nbformat_minor": 0,
  "metadata": {
    "colab": {
      "provenance": []
    },
    "kernelspec": {
      "name": "python3",
      "display_name": "Python 3"
    },
    "language_info": {
      "name": "python"
    }
  },
  "cells": [
    {
      "cell_type": "code",
      "execution_count": null,
      "metadata": {
        "colab": {
          "base_uri": "https://localhost:8080/"
        },
        "id": "BSmf_H8XbR5l",
        "outputId": "ef50b7d0-8a2b-4802-c4e0-9557f823014c"
      },
      "outputs": [
        {
          "output_type": "stream",
          "name": "stdout",
          "text": [
            "* * * * * \n",
            "* * * *   \n",
            "* * *     \n",
            "* *       \n",
            "*         \n"
          ]
        }
      ],
      "source": [
        "for i in range(1,6):\n",
        "  for j in range(1,6):\n",
        "    if j<=6-i:\n",
        "      print(\"*\",end=\" \")\n",
        "    else:\n",
        "      print(\" \",end=\" \")\n",
        "  print()"
      ]
    },
    {
      "cell_type": "code",
      "source": [
        "k=1\n",
        "for i in range(0,6):\n",
        "  for j in range(1,6):\n",
        "    if i==1:\n",
        "      print(\"*\",end=\" \")\n",
        "    elif i>1 and j <=k:\n",
        "      print(\"*\",end=\" \")\n",
        "    else:\n",
        "      print(\" \",end=\" \")\n",
        "  print()\n"
      ],
      "metadata": {
        "colab": {
          "base_uri": "https://localhost:8080/"
        },
        "id": "IrVZUT4ueH8k",
        "outputId": "e51b35ec-d523-4b96-caca-2f771c71e833"
      },
      "execution_count": null,
      "outputs": [
        {
          "output_type": "stream",
          "name": "stdout",
          "text": [
            "          \n",
            "* * * * * \n",
            "*         \n",
            "*         \n",
            "*         \n",
            "*         \n"
          ]
        }
      ]
    },
    {
      "cell_type": "code",
      "source": [
        "k=5\n",
        "for i in range(0,6):\n",
        "  for j in range(1,6):\n",
        "    if i==1:\n",
        "      print(\"*\",end=\" \")\n",
        "    elif i>1 and j >=k:\n",
        "      print(\"*\",end=\" \")\n",
        "    else:\n",
        "      print(\" \",end=\" \")\n",
        "  print()\n"
      ],
      "metadata": {
        "colab": {
          "base_uri": "https://localhost:8080/"
        },
        "id": "M_-4lFW20KrQ",
        "outputId": "adc4ab1a-93cb-4c85-c6f2-c2eaca391147"
      },
      "execution_count": null,
      "outputs": [
        {
          "output_type": "stream",
          "name": "stdout",
          "text": [
            "          \n",
            "* * * * * \n",
            "        * \n",
            "        * \n",
            "        * \n",
            "        * \n"
          ]
        }
      ]
    },
    {
      "cell_type": "code",
      "source": [
        "for i in range(1,6):\n",
        "  for j in range(1,6):\n",
        "    if j==i:\n",
        "      print(\"*\",end=\" \")\n",
        "    else:\n",
        "      print(\" \",end=\" \")\n",
        "  print()"
      ],
      "metadata": {
        "colab": {
          "base_uri": "https://localhost:8080/"
        },
        "id": "eZuxu-_d5BIs",
        "outputId": "3acb6d57-6be6-47c3-ffaf-26d1eebc95e7"
      },
      "execution_count": null,
      "outputs": [
        {
          "output_type": "stream",
          "name": "stdout",
          "text": [
            "*         \n",
            "  *       \n",
            "    *     \n",
            "      *   \n",
            "        * \n"
          ]
        }
      ]
    },
    {
      "cell_type": "code",
      "source": [
        "for i in range(1,6):\n",
        "  for j in range(1,6):\n",
        "    if j==6-i :\n",
        "      print(\"*\",end=\" \")\n",
        "    else:\n",
        "      print(\" \",end=\" \")\n",
        "  print()"
      ],
      "metadata": {
        "colab": {
          "base_uri": "https://localhost:8080/"
        },
        "id": "VrW7QYvD5NW6",
        "outputId": "e41641af-9d98-45c0-aacc-cb9b7f655e16"
      },
      "execution_count": null,
      "outputs": [
        {
          "output_type": "stream",
          "name": "stdout",
          "text": [
            "        * \n",
            "      *   \n",
            "    *     \n",
            "  *       \n",
            "*         \n"
          ]
        }
      ]
    },
    {
      "cell_type": "code",
      "source": [
        "for i in range(1,6):\n",
        "  for j in range(1,6):\n",
        "    if j==6-i :\n",
        "      print(\"*\",end=\" \")\n",
        "    elif i==5:\n",
        "        print(\"*\",end=\" \")\n",
        "    else:\n",
        "      print(\" \",end=\" \")\n",
        "  print()"
      ],
      "metadata": {
        "colab": {
          "base_uri": "https://localhost:8080/"
        },
        "id": "b0s2jdsG5cnt",
        "outputId": "a1e75906-4e15-4cac-a5f2-f821d419f29b"
      },
      "execution_count": null,
      "outputs": [
        {
          "output_type": "stream",
          "name": "stdout",
          "text": [
            "        * \n",
            "      *   \n",
            "    *     \n",
            "  *       \n",
            "* * * * * \n"
          ]
        }
      ]
    },
    {
      "cell_type": "code",
      "source": [],
      "metadata": {
        "id": "DCLZ0Mki5r8j"
      },
      "execution_count": null,
      "outputs": []
    }
  ]
}