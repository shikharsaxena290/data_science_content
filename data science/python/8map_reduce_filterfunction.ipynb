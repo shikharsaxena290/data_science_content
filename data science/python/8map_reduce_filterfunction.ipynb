{
  "nbformat": 4,
  "nbformat_minor": 0,
  "metadata": {
    "colab": {
      "provenance": []
    },
    "kernelspec": {
      "name": "python3",
      "display_name": "Python 3"
    },
    "language_info": {
      "name": "python"
    }
  },
  "cells": [
    {
      "cell_type": "code",
      "execution_count": 1,
      "metadata": {
        "id": "oYERrLU-l8HV"
      },
      "outputs": [],
      "source": [
        "l=[2,3,4,5,6]"
      ]
    },
    {
      "cell_type": "code",
      "source": [
        "def test(l):\n",
        "  l1=[]\n",
        "  for i in l:\n",
        "    l1.append(i**2)\n",
        "  return l1\n",
        "test(l)"
      ],
      "metadata": {
        "colab": {
          "base_uri": "https://localhost:8080/"
        },
        "id": "bkLsDvNTm09m",
        "outputId": "9259c6aa-20e2-4c83-c808-f4214eb2be14"
      },
      "execution_count": 2,
      "outputs": [
        {
          "output_type": "execute_result",
          "data": {
            "text/plain": [
              "[4, 9, 16, 25, 36]"
            ]
          },
          "metadata": {},
          "execution_count": 2
        }
      ]
    },
    {
      "cell_type": "code",
      "source": [
        "def sq(x):\n",
        "  return x**2\n",
        ""
      ],
      "metadata": {
        "id": "oxBksSORnVLr"
      },
      "execution_count": 3,
      "outputs": []
    },
    {
      "cell_type": "code",
      "source": [
        "list(map(sq,l))"
      ],
      "metadata": {
        "colab": {
          "base_uri": "https://localhost:8080/"
        },
        "id": "L9tXb2r-oMaF",
        "outputId": "08cd5339-afa5-4dfa-8013-8e50cafbc967"
      },
      "execution_count": 5,
      "outputs": [
        {
          "output_type": "execute_result",
          "data": {
            "text/plain": [
              "[4, 9, 16, 25, 36]"
            ]
          },
          "metadata": {},
          "execution_count": 5
        }
      ]
    },
    {
      "cell_type": "code",
      "source": [
        "l=[1,2,3,4]\n",
        "l1=[1,2,3,4]"
      ],
      "metadata": {
        "id": "srEbelrjoQQg"
      },
      "execution_count": 9,
      "outputs": []
    },
    {
      "cell_type": "code",
      "source": [
        "list(map(lambda x,y:x+y , l,l1))"
      ],
      "metadata": {
        "colab": {
          "base_uri": "https://localhost:8080/"
        },
        "id": "XkENXGR8qYI3",
        "outputId": "57b69c2c-db5c-4919-c6ce-24fc263ed803"
      },
      "execution_count": 10,
      "outputs": [
        {
          "output_type": "execute_result",
          "data": {
            "text/plain": [
              "[2, 4, 6, 8]"
            ]
          },
          "metadata": {},
          "execution_count": 10
        }
      ]
    },
    {
      "cell_type": "code",
      "source": [
        "s=\"shikhar\"\n",
        "list(map(lambda s:s.upper(), s))"
      ],
      "metadata": {
        "colab": {
          "base_uri": "https://localhost:8080/"
        },
        "id": "_9eSXFA4sw5R",
        "outputId": "fd2f492b-619c-4375-a405-8a6b74bc829d"
      },
      "execution_count": 17,
      "outputs": [
        {
          "output_type": "execute_result",
          "data": {
            "text/plain": [
              "['S', 'H', 'I', 'K', 'H', 'A', 'R']"
            ]
          },
          "metadata": {},
          "execution_count": 17
        }
      ]
    },
    {
      "cell_type": "markdown",
      "source": [
        "reduce\n"
      ],
      "metadata": {
        "id": "iS4YHMgk1uBy"
      }
    },
    {
      "cell_type": "code",
      "source": [
        "from functools import reduce"
      ],
      "metadata": {
        "id": "cKud1NSQuDsN"
      },
      "execution_count": 18,
      "outputs": []
    },
    {
      "cell_type": "code",
      "source": [
        "l=[1,2,3,4,5,6]\n",
        "reduce(lambda x,y : x+y , l)"
      ],
      "metadata": {
        "colab": {
          "base_uri": "https://localhost:8080/"
        },
        "id": "8Dk3Jx5C1rUp",
        "outputId": "b49f2fe5-3a77-4aad-d5d5-91ef96ebe292"
      },
      "execution_count": 21,
      "outputs": [
        {
          "output_type": "execute_result",
          "data": {
            "text/plain": [
              "21"
            ]
          },
          "metadata": {},
          "execution_count": 21
        }
      ]
    },
    {
      "cell_type": "code",
      "source": [
        "l=[1,2,3,4,5,6]\n",
        "reduce(lambda x,y :x if x > y else y,l)"
      ],
      "metadata": {
        "colab": {
          "base_uri": "https://localhost:8080/"
        },
        "id": "60F24WPk3BXN",
        "outputId": "8b374643-1ca5-4b1d-a518-8201b762f75e"
      },
      "execution_count": 28,
      "outputs": [
        {
          "output_type": "execute_result",
          "data": {
            "text/plain": [
              "6"
            ]
          },
          "metadata": {},
          "execution_count": 28
        }
      ]
    },
    {
      "cell_type": "code",
      "source": [
        "l=[1,2,3,4,5,6,7,8]\n",
        "list(filter(lambda x : x%2 == 0 , l))"
      ],
      "metadata": {
        "colab": {
          "base_uri": "https://localhost:8080/"
        },
        "id": "e-YnXZBP66nE",
        "outputId": "cb1f6761-190a-4737-a095-d8e765963f2c"
      },
      "execution_count": 30,
      "outputs": [
        {
          "output_type": "execute_result",
          "data": {
            "text/plain": [
              "[2, 4, 6, 8]"
            ]
          },
          "metadata": {},
          "execution_count": 30
        }
      ]
    },
    {
      "cell_type": "code",
      "source": [],
      "metadata": {
        "id": "a0vrlqAu8snF"
      },
      "execution_count": null,
      "outputs": []
    }
  ]
}