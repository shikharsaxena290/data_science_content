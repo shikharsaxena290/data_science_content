{
  "cells": [
    {
      "cell_type": "markdown",
      "metadata": {
        "id": "44yreKWVg1T9"
      },
      "source": [
        "# **\"oops\": object-oriented programming system**"
      ]
    },
    {
      "cell_type": "code",
      "execution_count": null,
      "metadata": {
        "colab": {
          "base_uri": "https://localhost:8080/"
        },
        "id": "48TGlnCXhDLq",
        "outputId": "09183835-5a23-4c77-b996-283d05088b31"
      },
      "outputs": [
        {
          "name": "stdout",
          "output_type": "stream",
          "text": [
            "<class 'str'>\n"
          ]
        }
      ],
      "source": [
        "a=\"shikhar\"\n",
        "print(type(a))"
      ]
    },
    {
      "cell_type": "markdown",
      "metadata": {
        "id": "cs_3hK9ehnEU"
      },
      "source": [
        "# class: is just a classification of real world entity for ex here class of a is string but it didn't show which stirng"
      ]
    },
    {
      "cell_type": "markdown",
      "metadata": {
        "id": "rMtg6Zw_i_OA"
      },
      "source": [
        "#a is a object of string class\n"
      ]
    },
    {
      "cell_type": "code",
      "execution_count": null,
      "metadata": {
        "id": "Y9rtYREqixHU"
      },
      "outputs": [],
      "source": [
        "class test:\n",
        "  pass"
      ]
    },
    {
      "cell_type": "code",
      "execution_count": null,
      "metadata": {
        "colab": {
          "base_uri": "https://localhost:8080/"
        },
        "id": "IZnU38qljSkH",
        "outputId": "1a8f6716-10e7-405b-84e3-ebcde3e1a1c6"
      },
      "outputs": [
        {
          "data": {
            "text/plain": [
              "__main__.pwskills"
            ]
          },
          "execution_count": 7,
          "metadata": {},
          "output_type": "execute_result"
        }
      ],
      "source": [
        "class pwskills:\n",
        "  def welcome_msg(self):\n",
        "    print(\"welcome to the class\")\n",
        "rohan=pwskills()\n",
        "type(rohan)"
      ]
    },
    {
      "cell_type": "code",
      "execution_count": null,
      "metadata": {
        "colab": {
          "base_uri": "https://localhost:8080/"
        },
        "id": "4ZZgHPr8mOhU",
        "outputId": "7dd16727-b311-4d86-f6b5-d21484169e75"
      },
      "outputs": [
        {
          "name": "stdout",
          "output_type": "stream",
          "text": [
            "welcome to the class\n"
          ]
        }
      ],
      "source": [
        "rohan.welcome_msg()"
      ]
    },
    {
      "cell_type": "code",
      "execution_count": null,
      "metadata": {
        "colab": {
          "base_uri": "https://localhost:8080/",
          "height": 175
        },
        "id": "bWLYlEL2mW8S",
        "outputId": "8e0bdb2b-b308-4786-8cb2-c8992c7f151f"
      },
      "outputs": [
        {
          "ename": "NameError",
          "evalue": "ignored",
          "output_type": "error",
          "traceback": [
            "\u001b[0;31m---------------------------------------------------------------------------\u001b[0m",
            "\u001b[0;31mNameError\u001b[0m                                 Traceback (most recent call last)",
            "\u001b[0;32m<ipython-input-9-fe348632d42d>\u001b[0m in \u001b[0;36m<cell line: 1>\u001b[0;34m()\u001b[0m\n\u001b[0;32m----> 1\u001b[0;31m \u001b[0mshikhar\u001b[0m\u001b[0;34m.\u001b[0m\u001b[0mwelcome_msg\u001b[0m\u001b[0;34m(\u001b[0m\u001b[0;34m)\u001b[0m\u001b[0;34m\u001b[0m\u001b[0;34m\u001b[0m\u001b[0m\n\u001b[0m",
            "\u001b[0;31mNameError\u001b[0m: name 'shikhar' is not defined"
          ]
        }
      ],
      "source": [
        "shikhar.welcome_msg()"
      ]
    },
    {
      "cell_type": "code",
      "execution_count": null,
      "metadata": {
        "colab": {
          "base_uri": "https://localhost:8080/"
        },
        "id": "wtgd1MkammHT",
        "outputId": "e705ee65-316f-4fda-c961-b9b197bfe110"
      },
      "outputs": [
        {
          "name": "stdout",
          "output_type": "stream",
          "text": [
            "welcome to the class\n"
          ]
        }
      ],
      "source": [
        "shikhar=pwskills()\n",
        "shikhar.welcome_msg()"
      ]
    },
    {
      "cell_type": "code",
      "execution_count": null,
      "metadata": {
        "id": "um7TE9Wwm0iy"
      },
      "outputs": [],
      "source": [
        "class details:\n",
        "  def __init__(self,phone_no,email_id,student_id):\n",
        "    self.phone_no=phone_no\n",
        "    self.email_id=email_id\n",
        "    self.student_id=student_id\n",
        "\n",
        "  def student_details(self):\n",
        "    return self.student_id,self.email_id,self.phone_no"
      ]
    },
    {
      "cell_type": "code",
      "execution_count": null,
      "metadata": {
        "colab": {
          "base_uri": "https://localhost:8080/"
        },
        "id": "7g58eJNcpRp-",
        "outputId": "e9e148ba-30ec-4ede-ee24-4d904fe543d5"
      },
      "outputs": [
        {
          "data": {
            "text/plain": [
              "(101, 'shikhar02@gmail.com', 7723456234)"
            ]
          },
          "execution_count": 13,
          "metadata": {},
          "output_type": "execute_result"
        }
      ],
      "source": [
        "shikhar=details(7723456234,\"shikhar02@gmail.com\",101)\n",
        "shikhar.student_details()"
      ]
    },
    {
      "cell_type": "code",
      "execution_count": 15,
      "metadata": {
        "id": "j0jsrvBIqBfZ"
      },
      "outputs": [],
      "source": [
        "class details1:\n",
        "  def __init__(argu,phone_no,email_id,student_id):\n",
        "    argu.phone_no1=phone_no\n",
        "    argu.email_id1=email_id\n",
        "    argu.student_id1=student_id\n",
        "\n",
        "  def student_details(argu):\n",
        "    return argu.student_id1,argu.email_id1,argu.phone_no1"
      ]
    },
    {
      "cell_type": "code",
      "source": [
        "shikhar=details1(129032032,\"xyz@gmail.com\",234)\n",
        "shikhar.student_details()"
      ],
      "metadata": {
        "colab": {
          "base_uri": "https://localhost:8080/"
        },
        "id": "7ROptkypwcBm",
        "outputId": "f1271fe1-f19d-4931-a155-2d0e6bf4d277"
      },
      "execution_count": 16,
      "outputs": [
        {
          "output_type": "execute_result",
          "data": {
            "text/plain": [
              "(234, 'xyz@gmail.com', 129032032)"
            ]
          },
          "metadata": {},
          "execution_count": 16
        }
      ]
    },
    {
      "cell_type": "code",
      "source": [
        "shikhar.email_id1"
      ],
      "metadata": {
        "colab": {
          "base_uri": "https://localhost:8080/",
          "height": 36
        },
        "id": "exYnz2ETws9s",
        "outputId": "d51699dd-ad29-476e-8088-0283edd9a48e"
      },
      "execution_count": 17,
      "outputs": [
        {
          "output_type": "execute_result",
          "data": {
            "text/plain": [
              "'xyz@gmail.com'"
            ],
            "application/vnd.google.colaboratory.intrinsic+json": {
              "type": "string"
            }
          },
          "metadata": {},
          "execution_count": 17
        }
      ]
    },
    {
      "cell_type": "code",
      "source": [],
      "metadata": {
        "id": "qz8mXVrEw7M0"
      },
      "execution_count": null,
      "outputs": []
    }
  ],
  "metadata": {
    "colab": {
      "provenance": []
    },
    "kernelspec": {
      "display_name": "Python 3",
      "name": "python3"
    },
    "language_info": {
      "name": "python"
    }
  },
  "nbformat": 4,
  "nbformat_minor": 0
}